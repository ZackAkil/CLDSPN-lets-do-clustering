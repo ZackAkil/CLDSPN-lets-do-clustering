{
 "cells": [
  {
   "cell_type": "markdown",
   "metadata": {},
   "source": [
    "# Let's do Clustering - Central London Data Science Project Nights"
   ]
  },
  {
   "cell_type": "code",
   "execution_count": 1,
   "metadata": {
    "collapsed": true
   },
   "outputs": [],
   "source": [
    "%matplotlib inline\n",
    "import matplotlib.pyplot as plt\n",
    "from sklearn.cluster import KMeans\n",
    "from sklearn.datasets import load_iris"
   ]
  },
  {
   "cell_type": "markdown",
   "metadata": {},
   "source": [
    "## 1. Load in data\n",
    "\n",
    "fetch and store the iris data by running: \n",
    "\n",
    "```python\n",
    "data = load_iris()\n",
    "``` \n",
    "\n",
    "This returns an object with the data, flower types, descriptions of the features. \n",
    "\n",
    "The actual data is stored inside the object as '`data`' so you should actualy run:\n",
    "\n",
    "```python\n",
    "data = load_iris().data\n",
    "``` \n"
   ]
  },
  {
   "cell_type": "code",
   "execution_count": 2,
   "metadata": {
    "collapsed": true
   },
   "outputs": [],
   "source": [
    "# load data\n",
    "data = load_iris().data"
   ]
  },
  {
   "cell_type": "markdown",
   "metadata": {},
   "source": [
    "## 2. Plot data\n",
    "\n",
    "You can plot a scatter graph funning \n",
    "\n",
    "```python\n",
    "plt.scatter(x_data, y_data)\n",
    "plt.show()\n",
    "```\n",
    "\n",
    "Plot out some of the data to help you spot if there are any obvious clusters.\n",
    "\n",
    "You can extract all the data for a single feature with the code:\n",
    "\n",
    "```python\n",
    "# : means all of the rows, and the number specifies which column\n",
    "feature_1_data = data[:,0]\n",
    "feature_2_data = data[:,1]\n",
    "feature_3_data = data[:,2]\n",
    "feature_4_data = data[:,3]\n",
    "```\n"
   ]
  },
  {
   "cell_type": "code",
   "execution_count": 3,
   "metadata": {},
   "outputs": [
    {
     "data": {
      "image/png": "[encoded data removed]",
      "text/plain": [
       "<matplotlib.figure.Figure at 0x110d4cf98>"
      ]
     },
     "metadata": {},
     "output_type": "display_data"
    }
   ],
   "source": [
    "plt.scatter(data[:,3], data[:,1])\n",
    "plt.show()"
   ]
  },
  {
   "cell_type": "markdown",
   "metadata": {},
   "source": [
    "## 3. Create Kmean model\n",
    "\n",
    "Create your KMeans model with `KMeans()` and save it to a variable.\n",
    "\n",
    "You should also specify the number of clusters you want to use with the `n_clusters` parameter."
   ]
  },
  {
   "cell_type": "code",
   "execution_count": 4,
   "metadata": {
    "collapsed": true
   },
   "outputs": [],
   "source": [
    "clst = KMeans(n_clusters=3)"
   ]
  },
  {
   "cell_type": "markdown",
   "metadata": {},
   "source": [
    "## 4. fit model to data\n",
    "\n",
    "Run the clustering algorithm by calling `.fit(data)` on your model and passing in your iris data."
   ]
  },
  {
   "cell_type": "code",
   "execution_count": 5,
   "metadata": {},
   "outputs": [
    {
     "data": {
      "text/plain": [
       "KMeans(algorithm='auto', copy_x=True, init='k-means++', max_iter=300,\n",
       "    n_clusters=3, n_init=10, n_jobs=1, precompute_distances='auto',\n",
       "    random_state=None, tol=0.0001, verbose=0)"
      ]
     },
     "execution_count": 5,
     "metadata": {},
     "output_type": "execute_result"
    }
   ],
   "source": [
    "clst.fit(data)"
   ]
  },
  {
   "cell_type": "markdown",
   "metadata": {},
   "source": [
    "### Examine the cluster centers to see what the averages of the groups are\n",
    "\n",
    "You can see the cluster centroids by calling `.cluster_centers_` on your model.\n",
    "\n",
    "You might want to find out what the feature names by running.\n",
    "```python\n",
    "print(load_iris()['DESCR'])\n",
    "```"
   ]
  },
  {
   "cell_type": "code",
   "execution_count": 6,
   "metadata": {},
   "outputs": [
    {
     "data": {
      "text/plain": [
       "array([[ 5.9016129 ,  2.7483871 ,  4.39354839,  1.43387097],\n",
       "       [ 5.006     ,  3.418     ,  1.464     ,  0.244     ],\n",
       "       [ 6.85      ,  3.07368421,  5.74210526,  2.07105263]])"
      ]
     },
     "execution_count": 6,
     "metadata": {},
     "output_type": "execute_result"
    }
   ],
   "source": [
    "clst.cluster_centers_"
   ]
  },
  {
   "cell_type": "markdown",
   "metadata": {},
   "source": [
    "## 5. Get predicted clusters \n",
    "\n",
    "On any model in sklearn you get predictions by calling:\n",
    "\n",
    "```python\n",
    "model.predict(data)\n",
    "```\n",
    "\n",
    "Get the cluster prediction for your data and store them in a varible"
   ]
  },
  {
   "cell_type": "code",
   "execution_count": 7,
   "metadata": {
    "collapsed": true
   },
   "outputs": [],
   "source": [
    "clust_cat = clst.predict(data)"
   ]
  },
  {
   "cell_type": "markdown",
   "metadata": {},
   "source": [
    "Now you should plot some of your data with the cluster predictions showing as colours.\n",
    "\n",
    "You do this as follows:\n",
    "\n",
    "```python\n",
    "plt.scatter(x_data, y_data, c=colour_data)\n",
    "plt.show()\n",
    "```\n",
    "\n",
    "The `colour_data` can be just a list of numbers so the raw output from the `model.predict(data)` should work."
   ]
  },
  {
   "cell_type": "code",
   "execution_count": 8,
   "metadata": {},
   "outputs": [
    {
     "data": {
      "image/png": "[encoded data removed]",
      "text/plain": [
       "<matplotlib.figure.Figure at 0x1140e4d68>"
      ]
     },
     "metadata": {},
     "output_type": "display_data"
    }
   ],
   "source": [
    "plt.scatter(data[:,3], data[:,1], c=clust_cat)\n",
    "plt.show()"
   ]
  },
  {
   "cell_type": "markdown",
   "metadata": {},
   "source": [
    "# EXTRA - Visualize higher dimensions with PCA \n",
    "After plotting our cluster prediction you can see that some of the prediction overlap. This would seem strange becuase it looks like some data points are closer to other centroids.\n",
    "\n",
    "This is an illusion caused by the way we are visualising the data.\n",
    "\n",
    "We only plotted 2 of the 4 dimension of data that were used in the clustering. So our view of the data is through a specific perspective.\n",
    "\n",
    "It can appear through 2 dimensions that some data is close, but when distances are calculated using all the dimansions they are in fact further apart.\n",
    "\n",
    "![dimensionality perspective](ted.jpeg \"Title\")\n",
    "[Here is a good video on perspective confusion](https://youtu.be/GFTgkibl7DU?t=30s)\n",
    "\n"
   ]
  },
  {
   "cell_type": "markdown",
   "metadata": {},
   "source": [
    "## Using PCA (Principal component analysis)\n",
    "\n",
    "PCA works by projecting the data down onto lower dimension whilst trying to maintain the original varience of the data.\n",
    "\n",
    "![pca](pca.gif )\n",
    "***https://stats.stackexchange.com/questions/2691/making-sense-of-principal-component-analysis-eigenvectors-eigenvalues\n",
    "\n",
    "Show's PCA projecting 2 dimensions of data down to 1 dimensions"
   ]
  },
  {
   "cell_type": "code",
   "execution_count": 9,
   "metadata": {
    "collapsed": true
   },
   "outputs": [],
   "source": [
    "# import PCA \n",
    "from sklearn.decomposition import PCA"
   ]
  },
  {
   "cell_type": "code",
   "execution_count": 10,
   "metadata": {
    "collapsed": true
   },
   "outputs": [],
   "source": [
    "# create PCA model , specifying the number of \n",
    "# dimension you want to project down onto\n",
    "pca = PCA(n_components=2)"
   ]
  },
  {
   "cell_type": "code",
   "execution_count": 11,
   "metadata": {
    "collapsed": true
   },
   "outputs": [],
   "source": [
    "# fit and transform data\n",
    "pca_data = pca.fit_transform(data)"
   ]
  },
  {
   "cell_type": "code",
   "execution_count": 12,
   "metadata": {},
   "outputs": [
    {
     "data": {
      "image/png": "[encoded data removed]",
      "text/plain": [
       "<matplotlib.figure.Figure at 0x1141204e0>"
      ]
     },
     "metadata": {},
     "output_type": "display_data"
    }
   ],
   "source": [
    "# plot transformed data with our cluster labels (colours)\n",
    "plt.scatter(pca_data[:,0], pca_data[:,1], c=clust_cat)\n",
    "plt.show()"
   ]
  },
  {
   "cell_type": "markdown",
   "metadata": {},
   "source": [
    "You can see now that the \"true\" distances are better represented in the PCA projected data than before becuase you don't see much overlap of the data labels (colours)."
   ]
  }
 ],
 "metadata": {
  "kernelspec": {
   "display_name": "Python [default]",
   "language": "python",
   "name": "python3"
  },
  "language_info": {
   "codemirror_mode": {
    "name": "ipython",
    "version": 3
   },
   "file_extension": ".py",
   "mimetype": "text/x-python",
   "name": "python",
   "nbconvert_exporter": "python",
   "pygments_lexer": "ipython3",
   "version": "3.5.3"
  }
 },
 "nbformat": 4,
 "nbformat_minor": 1
}
