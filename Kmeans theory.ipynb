{
 "cells": [
  {
   "cell_type": "markdown",
   "metadata": {},
   "source": [
    "# K-means theory"
   ]
  },
  {
   "cell_type": "code",
   "execution_count": 6,
   "metadata": {
    "collapsed": true
   },
   "outputs": [],
   "source": [
    "%matplotlib inline\n",
    "import matplotlib.pyplot as plt\n",
    "import numpy as np"
   ]
  },
  {
   "cell_type": "code",
   "execution_count": 2,
   "metadata": {
    "collapsed": true
   },
   "outputs": [],
   "source": [
    "# used to generate cluster-able data\n",
    "from sklearn.datasets import make_blobs"
   ]
  },
  {
   "cell_type": "code",
   "execution_count": 21,
   "metadata": {},
   "outputs": [
    {
     "data": {
      "image/png": "[encoded data removed]",
      "text/plain": [
       "<matplotlib.figure.Figure at 0x112d7f208>"
      ]
     },
     "metadata": {},
     "output_type": "display_data"
    }
   ],
   "source": [
    "data = make_blobs(random_state=42, cluster_std=5, centers=3)[0]\n",
    "\n",
    "plt.scatter(data[:,0], data[:,1])\n",
    "plt.show()"
   ]
  },
  {
   "cell_type": "code",
   "execution_count": 22,
   "metadata": {},
   "outputs": [
    {
     "data": {
      "image/png": "[encoded data removed]",
      "text/plain": [
       "<matplotlib.figure.Figure at 0x10f5a3240>"
      ]
     },
     "metadata": {},
     "output_type": "display_data"
    }
   ],
   "source": [
    "data = make_blobs(random_state=42)[0]\n",
    "\n",
    "plt.scatter(data[:,0], data[:,1])\n",
    "plt.show()"
   ]
  },
  {
   "cell_type": "markdown",
   "metadata": {},
   "source": [
    "## Initilias centroids"
   ]
  },
  {
   "cell_type": "code",
   "execution_count": 23,
   "metadata": {
    "collapsed": true
   },
   "outputs": [],
   "source": [
    "import random"
   ]
  },
  {
   "cell_type": "code",
   "execution_count": 42,
   "metadata": {
    "collapsed": true
   },
   "outputs": [],
   "source": [
    "n_centroids = 3\n",
    "centroids_x = []\n",
    "centroids_y = []\n",
    "\n",
    "random.seed(42)\n",
    "\n",
    "for i in range(3):\n",
    "    rand_x = random.randint(-10,10)\n",
    "    rand_y = random.randint(-10,10)\n",
    "    centroids_x.append(rand_x)\n",
    "    centroids_y.append(rand_y)"
   ]
  },
  {
   "cell_type": "code",
   "execution_count": 49,
   "metadata": {},
   "outputs": [
    {
     "data": {
      "image/png": "[encoded data removed]",
      "text/plain": [
       "<matplotlib.figure.Figure at 0x112fc0940>"
      ]
     },
     "metadata": {},
     "output_type": "display_data"
    }
   ],
   "source": [
    "# plot data\n",
    "plt.scatter(data[:,0], data[:,1])\n",
    "\n",
    "# plot centroids\n",
    "plt.scatter(centroids_x, centroids_y, color='r', s=80)\n",
    "plt.show()\n",
    "    "
   ]
  },
  {
   "cell_type": "markdown",
   "metadata": {},
   "source": [
    "## Calculate closest data points to each cluster"
   ]
  },
  {
   "cell_type": "code",
   "execution_count": 53,
   "metadata": {},
   "outputs": [
    {
     "data": {
      "text/plain": [
       "(100, 2)"
      ]
     },
     "execution_count": 53,
     "metadata": {},
     "output_type": "execute_result"
    }
   ],
   "source": [
    "data.shape"
   ]
  },
  {
   "cell_type": "code",
   "execution_count": 86,
   "metadata": {},
   "outputs": [
    {
     "name": "stdout",
     "output_type": "stream",
     "text": [
      "Finding closest centroids for (-7.73, -8.39)\n",
      "Distance to centroid = 19.12\n",
      "Distance to centroid = 8.67\n",
      "Distance to centroid = 10.12\n",
      "Closest centroid is 1\n",
      "\n",
      "Finding closest centroids for (5.45, 0.74)\n",
      "Distance to centroid = 12.29\n",
      "Distance to centroid = 18.2\n",
      "Distance to centroid = 12.2\n",
      "Closest centroid is 2\n",
      "\n",
      "Finding closest centroids for (-2.98, 9.56)\n",
      "Distance to centroid = 29.54\n",
      "Distance to centroid = 18.58\n",
      "Distance to centroid = 12.58\n",
      "Closest centroid is 2\n",
      "\n",
      "Finding closest centroids for (6.04, 0.57)\n",
      "Distance to centroid = 11.53\n",
      "Distance to centroid = 18.61\n",
      "Distance to centroid = 12.61\n",
      "Closest centroid is 0\n",
      "\n",
      "Finding closest centroids for (-6.52, -6.32)\n",
      "Distance to centroid = 17.2\n",
      "Distance to centroid = 7.8\n",
      "Distance to centroid = 6.84\n",
      "Closest centroid is 2\n",
      "\n"
     ]
    }
   ],
   "source": [
    "# fir teh first 5 rows of data\n",
    "for row_n in range(5):\n",
    "    \n",
    "    data_x = data[row_n,0]\n",
    "    data_y = data[row_n,1]\n",
    "    \n",
    "    print('Finding closest centroids for ({0}, {1})'.format(round(data_x, 2), \n",
    "                                                           round(data_y, 2)))\n",
    "    \n",
    "    distances_to_centroids = []\n",
    "\n",
    "    for cent_x, cent_y in zip(centroids_x, centroids_y):\n",
    "        \n",
    "        x_diff = abs(cent_x - data_x)\n",
    "        y_diff = abs(cent_y - data_y)\n",
    "        \n",
    "        distance = x_diff + y_diff\n",
    "        \n",
    "        print('Distance to centroid = {0}'.format(round(distance,2)))\n",
    "        \n",
    "        distances_to_centroids.append(distance)\n",
    "        \n",
    "    # find shortest distance\n",
    "    shortest_distance = min(distances_to_centroids)\n",
    "\n",
    "    # find closest centroid\n",
    "    closest_centroid_index = distances_to_centroids.index(shortest_distance)\n",
    "    \n",
    "    print('Closest centroid is {0}\\n'.format(closest_centroid_index))"
   ]
  },
  {
   "cell_type": "code",
   "execution_count": 69,
   "metadata": {},
   "outputs": [
    {
     "data": {
      "text/plain": [
       "[(10, -7), (-10, -2), (-3, -3)]"
      ]
     },
     "execution_count": 69,
     "metadata": {},
     "output_type": "execute_result"
    }
   ],
   "source": [
    "list(zip(centroids_x, centroids_y))"
   ]
  },
  {
   "cell_type": "code",
   "execution_count": 70,
   "metadata": {},
   "outputs": [
    {
     "data": {
      "text/plain": [
       "[10, -10, -3]"
      ]
     },
     "execution_count": 70,
     "metadata": {},
     "output_type": "execute_result"
    }
   ],
   "source": [
    "centroids_x"
   ]
  },
  {
   "cell_type": "code",
   "execution_count": 71,
   "metadata": {},
   "outputs": [
    {
     "data": {
      "text/plain": [
       "[-7, -2, -3]"
      ]
     },
     "execution_count": 71,
     "metadata": {},
     "output_type": "execute_result"
    }
   ],
   "source": [
    "centroids_y"
   ]
  },
  {
   "cell_type": "code",
   "execution_count": 82,
   "metadata": {},
   "outputs": [
    {
     "data": {
      "text/plain": [
       "0.33"
      ]
     },
     "execution_count": 82,
     "metadata": {},
     "output_type": "execute_result"
    }
   ],
   "source": [
    "round(0.3278762,2)"
   ]
  },
  {
   "cell_type": "code",
   "execution_count": null,
   "metadata": {
    "collapsed": true
   },
   "outputs": [],
   "source": []
  }
 ],
 "metadata": {
  "kernelspec": {
   "display_name": "Python 3",
   "language": "python",
   "name": "python3"
  },
  "language_info": {
   "codemirror_mode": {
    "name": "ipython",
    "version": 3
   },
   "file_extension": ".py",
   "mimetype": "text/x-python",
   "name": "python",
   "nbconvert_exporter": "python",
   "pygments_lexer": "ipython3",
   "version": "3.5.2"
  }
 },
 "nbformat": 4,
 "nbformat_minor": 1
}
